{
 "cells": [
  {
   "cell_type": "markdown",
   "metadata": {
    "collapsed": true
   },
   "source": [
    "Notebook for testing nn performance"
   ]
  },
  {
   "cell_type": "code",
   "execution_count": 4,
   "metadata": {},
   "outputs": [],
   "source": [
    "# import dependencies\n",
    "import tensorflow as tf\n",
    "import numpy as np\n",
    "import matplotlib.pyplot as plt\n",
    "\n",
    "from data_preprocessing import extract_csv_info, format_data, shuffle_and_split, split_input_output\n",
    "from neural import train_and_generate_feedforward_network, train_and_generate_recurrent_network, train_and_generate_preisach_network, train_and_generate_recurrent_preisach_network"
   ]
  },
  {
   "cell_type": "code",
   "execution_count": 5,
   "metadata": {},
   "outputs": [],
   "source": [
    "# Function to compute MSE of predicted values\n",
    "def compute_mse(actual_y, predicted_y):\n",
    "    actual_y = np.asarray(actual_y)\n",
    "    predicted_y = np.asarray(predicted_y)\n",
    "    diff = np.subtract(actual_y, predicted_y)\n",
    "    squared = np.square(diff)\n",
    "    mse = np.mean(squared)\n",
    "    return mse\n",
    "\n",
    "\n",
    "# test compute mse\n",
    "# y = [11, 20, 19, 17, 10]\n",
    "# y_pred = [12, 18, 19.5, 18, 9]\n",
    "# print(compute_mse(y, y_pred))"
   ]
  },
  {
   "cell_type": "code",
   "execution_count": 6,
   "metadata": {},
   "outputs": [],
   "source": [
    "# Function for plotting predicted values from NN\n",
    "# TODO: add figsize and xlim as input to function to allow customization\n",
    "def plot_predicted(next_h, next_b, model_name):\n",
    "    plt.figure(figsize=(20, 12))\n",
    "    plt.xlim(-750, 750)\n",
    "    plt.plot(next_h, next_b, marker=\"o\", color='black')\n",
    "    plt.title(model_name + \" Output Plot\")\n",
    "    plt.xlabel(\"Magnetic Field H (T)\")\n",
    "    plt.ylabel(\"Magnetic Flux B (A/m)\")\n",
    "    plt.show()"
   ]
  },
  {
   "cell_type": "markdown",
   "metadata": {},
   "source": [
    "## Data Loading and Preprocessing"
   ]
  },
  {
   "cell_type": "code",
   "execution_count": 7,
   "metadata": {},
   "outputs": [],
   "source": [
    "# Load data for training\n",
    "raw_train_data = extract_csv_info(\"./data_simulated/M19_29Gauge - Sheet1.csv\")\n",
    "# format into (current H, current B, next H, next B)\n",
    "formatted_data = format_data(raw_train_data)\n",
    "#train, test = shuffle_and_split(formatted_data)\n",
    "train_x, train_y = split_input_output(formatted_data)\n",
    "#test_x, test_y = split_input_output(test)\n"
   ]
  },
  {
   "cell_type": "code",
   "execution_count": 8,
   "metadata": {},
   "outputs": [],
   "source": [
    "# Load data for testing\n",
    "raw_test_data = extract_csv_info(\"./data_simulated/M19_TESTINGDATA - M19_TESTINGDATA.csv\")\n",
    "formatted_test_data = format_data(raw_test_data)\n",
    "test_x, test_y = split_input_output(formatted_test_data)\n",
    "\n",
    "# Separate next_h values into separate list for plotting output\n",
    "test_next_h = list()\n",
    "for i in range(len(test_x)):\n",
    "    test_next_h.append(test_x[i][2])\n"
   ]
  },
  {
   "cell_type": "markdown",
   "metadata": {},
   "source": [
    "## Feedforward Network"
   ]
  },
  {
   "cell_type": "code",
   "execution_count": null,
   "metadata": {},
   "outputs": [],
   "source": [
    "# Generate and train feedforward network\n",
    "feedforward_model = train_and_generate_feedforward_network(train_x, train_y, \"feedforward.model\", n_epochs=20)"
   ]
  },
  {
   "cell_type": "code",
   "execution_count": null,
   "metadata": {},
   "outputs": [],
   "source": [
    "# Load feedforward model\n",
    "feedforward_model = tf.keras.models.load_model(\"./models/feedforward.model\")"
   ]
  },
  {
   "cell_type": "code",
   "execution_count": null,
   "metadata": {},
   "outputs": [],
   "source": [
    "# Evaluate feedforward network\n",
    "feedforward_prediction = feedforward_model.predict(test_x)\n",
    "mse = compute_mse(test_y, feedforward_prediction)\n",
    "print(\"MSE: \" + str(mse))\n",
    "\n",
    "# tensorflow evaluation\n",
    "feedforward_model.evaluate(test_x, test_y)"
   ]
  },
  {
   "cell_type": "code",
   "execution_count": null,
   "metadata": {},
   "outputs": [],
   "source": [
    "# Plot feedforward output\n",
    "plot_predicted(test_next_h, feedforward_prediction, \"Feedforward Network\")\n"
   ]
  },
  {
   "cell_type": "markdown",
   "metadata": {},
   "source": [
    "## Preisach Network"
   ]
  },
  {
   "cell_type": "code",
   "execution_count": null,
   "metadata": {},
   "outputs": [],
   "source": [
    "# Generate and train preisach network\n",
    "pnn_model = train_and_generate_preisach_network(train_x, train_y, \"preisach.model\", n_epochs=20)"
   ]
  },
  {
   "cell_type": "code",
   "execution_count": null,
   "metadata": {},
   "outputs": [],
   "source": [
    "# Load preisach model\n",
    "pnn_model = tf.keras.models.load_model(\"./models/preisach.model\")"
   ]
  },
  {
   "cell_type": "code",
   "execution_count": null,
   "metadata": {},
   "outputs": [],
   "source": [
    "#Evaluate preisach model\n",
    "pnn_prediction = pnn_model.predict(test_x)\n",
    "mse = compute_mse(test_y, pnn_prediction)\n",
    "print(\"MSE: \" + str(mse))\n",
    "\n",
    "# tensorflow evaluation\n",
    "pnn_model.evaluate(test_x, test_y)"
   ]
  },
  {
   "cell_type": "code",
   "execution_count": null,
   "metadata": {},
   "outputs": [],
   "source": [
    "# Plot Preisach output\n",
    "plot_predicted(test_next_h, pnn_prediction, \"Preisach Network\")"
   ]
  },
  {
   "cell_type": "markdown",
   "metadata": {},
   "source": [
    "## Recurrent Network\n",
    "no stop activation layer"
   ]
  },
  {
   "cell_type": "code",
   "execution_count": null,
   "metadata": {},
   "outputs": [],
   "source": [
    "# Generate and train recurrent network (no stop operator)\n",
    "rnn_model = train_and_generate_recurrent_network(train_x, train_y, \"recurrent.model\", n_epochs=20)"
   ]
  },
  {
   "cell_type": "code",
   "execution_count": null,
   "metadata": {},
   "outputs": [],
   "source": [
    "# Load recurrent network\n",
    "rnn_model = tf.keras.models.load_model(\"./models/recurrent.model\")"
   ]
  },
  {
   "cell_type": "code",
   "execution_count": null,
   "metadata": {},
   "outputs": [],
   "source": [
    "# Evaluate recurrent model\n",
    "rnn_prediction = rnn_model.predict(test_x)\n",
    "mse = compute_mse(test_y, rnn_prediction)\n",
    "print(\"MSE: \" + str(mse))\n",
    "\n",
    "# tensorflow evaluation\n",
    "rnn_model.evaluate(test_x, test_y)\n",
    "\n"
   ]
  },
  {
   "cell_type": "markdown",
   "metadata": {},
   "source": [
    "## Recurrent Preisach Network\n",
    "includes stop activation layer"
   ]
  },
  {
   "cell_type": "code",
   "execution_count": 9,
   "metadata": {},
   "outputs": [
    {
     "name": "stdout",
     "output_type": "stream",
     "text": [
      "Epoch 1/20\n",
      "63/63 [==============================] - 1s 3ms/step - loss: 0.4688 - mean_squared_error: 0.4688\n",
      "Epoch 2/20\n",
      "63/63 [==============================] - 0s 3ms/step - loss: 0.4523 - mean_squared_error: 0.4523\n",
      "Epoch 3/20\n",
      "63/63 [==============================] - 0s 4ms/step - loss: 0.4571 - mean_squared_error: 0.4571\n",
      "Epoch 4/20\n",
      "63/63 [==============================] - 0s 3ms/step - loss: 0.4701 - mean_squared_error: 0.4701\n",
      "Epoch 5/20\n",
      "63/63 [==============================] - 0s 3ms/step - loss: 0.4557 - mean_squared_error: 0.4557\n",
      "Epoch 6/20\n",
      "63/63 [==============================] - 0s 3ms/step - loss: 0.4611 - mean_squared_error: 0.4611\n",
      "Epoch 7/20\n",
      "63/63 [==============================] - 0s 3ms/step - loss: 0.4571 - mean_squared_error: 0.4571\n",
      "Epoch 8/20\n",
      "63/63 [==============================] - 0s 3ms/step - loss: 0.4584 - mean_squared_error: 0.4584\n",
      "Epoch 9/20\n",
      "63/63 [==============================] - 0s 3ms/step - loss: 0.4555 - mean_squared_error: 0.4555\n",
      "Epoch 10/20\n",
      "63/63 [==============================] - 0s 3ms/step - loss: 0.4568 - mean_squared_error: 0.4568\n",
      "Epoch 11/20\n",
      "63/63 [==============================] - 0s 3ms/step - loss: 0.4576 - mean_squared_error: 0.4576\n",
      "Epoch 12/20\n",
      "63/63 [==============================] - 0s 4ms/step - loss: 0.4600 - mean_squared_error: 0.4600\n",
      "Epoch 13/20\n",
      "63/63 [==============================] - 0s 4ms/step - loss: 0.4554 - mean_squared_error: 0.4554\n",
      "Epoch 14/20\n",
      "63/63 [==============================] - 0s 3ms/step - loss: 0.4626 - mean_squared_error: 0.4626\n",
      "Epoch 15/20\n",
      "63/63 [==============================] - 0s 4ms/step - loss: 0.4643 - mean_squared_error: 0.4643\n",
      "Epoch 16/20\n",
      "63/63 [==============================] - 0s 3ms/step - loss: 0.4532 - mean_squared_error: 0.4532\n",
      "Epoch 17/20\n",
      "63/63 [==============================] - 0s 3ms/step - loss: 0.4577 - mean_squared_error: 0.4577\n",
      "Epoch 18/20\n",
      "63/63 [==============================] - 0s 3ms/step - loss: 0.4625 - mean_squared_error: 0.4625\n",
      "Epoch 19/20\n",
      "63/63 [==============================] - 0s 3ms/step - loss: 0.4568 - mean_squared_error: 0.4568\n",
      "Epoch 20/20\n",
      "63/63 [==============================] - 0s 3ms/step - loss: 0.4543 - mean_squared_error: 0.4543\n",
      "INFO:tensorflow:Assets written to: models/recurrent_preisach.model\\assets\n"
     ]
    }
   ],
   "source": [
    "# Generate and train recurrent preisach network\n",
    "rnn_model = train_and_generate_recurrent_preisach_network(train_x, train_y, \"recurrent_preisach.model\", n_epochs=20)"
   ]
  },
  {
   "cell_type": "code",
   "execution_count": null,
   "metadata": {},
   "outputs": [],
   "source": []
  }
 ],
 "metadata": {
  "kernelspec": {
   "display_name": "Python 3 (ipykernel)",
   "language": "python",
   "name": "python3"
  },
  "language_info": {
   "codemirror_mode": {
    "name": "ipython",
    "version": 3
   },
   "file_extension": ".py",
   "mimetype": "text/x-python",
   "name": "python",
   "nbconvert_exporter": "python",
   "pygments_lexer": "ipython3",
   "version": "3.10.0"
  }
 },
 "nbformat": 4,
 "nbformat_minor": 1
}
