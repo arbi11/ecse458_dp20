{
 "cells": [
  {
   "cell_type": "markdown",
   "metadata": {},
   "source": [
    "Notebook for testing nn performance"
   ]
  },
  {
   "cell_type": "code",
   "execution_count": null,
   "metadata": {},
   "outputs": [],
   "source": [
    "# import dependencies\n",
    "import tensorflow as tf\n",
    "import numpy as np\n",
    "import matplotlib.pyplot as plt\n",
    "\n",
    "from data_preprocessing import extract_csv_info, format_data, shuffle_and_split, split_input_output\n",
    "from neural import train_and_generate_feedforward_network, train_and_generate_recurrent_network, train_and_generate_preisach_network, train_and_generate_recurrent_preisach_network"
   ]
  },
  {
   "cell_type": "code",
   "execution_count": null,
   "metadata": {},
   "outputs": [],
   "source": [
    "# Function to compute MSE of predicted values\n",
    "def compute_mse(actual_y, predicted_y):\n",
    "    actual_y = np.asarray(actual_y)\n",
    "    predicted_y = np.asarray(predicted_y)\n",
    "    diff = np.subtract(actual_y, predicted_y)\n",
    "    squared = np.square(diff)\n",
    "    mse = np.mean(squared)\n",
    "    return mse\n",
    "\n",
    "\n",
    "# test compute mse\n",
    "# y = [11, 20, 19, 17, 10]\n",
    "# y_pred = [12, 18, 19.5, 18, 9]\n",
    "# print(compute_mse(y, y_pred))"
   ]
  },
  {
   "cell_type": "code",
   "execution_count": null,
   "metadata": {},
   "outputs": [],
   "source": [
    "# Function for plotting predicted values from NN\n",
    "# TODO: add figsize and xlim as input to function to allow customization\n",
    "def plot_predicted(next_h, next_b, model_name):\n",
    "    plt.figure(figsize=(20, 12))\n",
    "    plt.xlim(-750, 750)\n",
    "    plt.plot(next_h, next_b, marker=\"o\", color='black')\n",
    "    plt.title(model_name + \" Output Plot\")\n",
    "    plt.xlabel(\"Magnetic Field H (T)\")\n",
    "    plt.ylabel(\"Magnetic Flux B (A/m)\")\n",
    "    plt.show()"
   ]
  },
  {
   "cell_type": "markdown",
   "metadata": {},
   "source": [
    "## Data Loading and Preprocessing"
   ]
  },
  {
   "cell_type": "code",
   "execution_count": null,
   "metadata": {},
   "outputs": [],
   "source": [
    "# Load data for training\n",
    "raw_train_data = extract_csv_info(\"./data_simulated/M19_29Gauge - Sheet1.csv\")\n",
    "# format into (current H, current B, next H, next B)\n",
    "formatted_data = format_data(raw_train_data)\n",
    "#train, test = shuffle_and_split(formatted_data)\n",
    "train_x, train_y = split_input_output(formatted_data)\n",
    "#test_x, test_y = split_input_output(test)\n",
    "print(len(train_x))"
   ]
  },
  {
   "cell_type": "code",
   "execution_count": null,
   "metadata": {},
   "outputs": [],
   "source": [
    "# Load data for testing\n",
    "raw_test_data = extract_csv_info(\"./data_simulated/M19_TESTINGDATA - M19_TESTINGDATA.csv\")\n",
    "formatted_test_data = format_data(raw_test_data)\n",
    "test_x, test_y = split_input_output(formatted_test_data)\n",
    "\n",
    "# Separate next_h values into separate list for plotting output\n",
    "test_next_h = list()\n",
    "for i in range(len(test_x)):\n",
    "    test_next_h.append(test_x[i][2])\n",
    "\n",
    "print(len(test_next_h))\n",
    "print(len(test_x))"
   ]
  },
  {
   "cell_type": "markdown",
   "source": [
    "## Recurrent Preisach NN"
   ],
   "metadata": {
    "collapsed": false
   }
  },
  {
   "cell_type": "code",
   "execution_count": null,
   "outputs": [],
   "source": [
    "# Generate and train recurrent preisach network\n",
    "n = 20\n",
    "rpnn_model = train_and_generate_recurrent_preisach_network(train_x[0:1984], train_y[0:1984], \"recurrent_preisach.model\", n_epochs=n)"
   ],
   "metadata": {
    "collapsed": false
   }
  },
  {
   "cell_type": "code",
   "execution_count": null,
   "outputs": [],
   "source": [
    "# Evaluate and generate a plot of the RPNN\n",
    "rpnn_prediction = rpnn_model.predict(test_x[0:1152])\n",
    "plot_predicted(test_next_h[0:1152], rpnn_prediction[0:1152], \"R Preisach Network (trained with {} epochs)\".format(n))\n",
    "rpnn_model.summary()"
   ],
   "metadata": {
    "collapsed": false
   }
  },
  {
   "cell_type": "markdown",
   "metadata": {},
   "source": [
    "## Feedforward Network"
   ]
  },
  {
   "cell_type": "code",
   "execution_count": null,
   "metadata": {},
   "outputs": [],
   "source": [
    "# Generate and train feedforward network\n",
    "feedforward_model = train_and_generate_feedforward_network(train_x, train_y, \"feedforward.model\", n_epochs=20)"
   ]
  },
  {
   "cell_type": "code",
   "execution_count": null,
   "metadata": {},
   "outputs": [],
   "source": [
    "# Load feedforward model\n",
    "feedforward_model = tf.keras.models.load_model(\"./models/feedforward.model\")"
   ]
  },
  {
   "cell_type": "code",
   "execution_count": null,
   "metadata": {},
   "outputs": [],
   "source": [
    "# Evaluate feedforward network\n",
    "feedforward_prediction = feedforward_model.predict(test_x)\n",
    "mse = compute_mse(test_y, feedforward_prediction)\n",
    "print(\"MSE: \" + str(mse))\n",
    "\n",
    "# tensorflow evaluation\n",
    "feedforward_model.evaluate(test_x, test_y)"
   ]
  },
  {
   "cell_type": "code",
   "execution_count": null,
   "metadata": {},
   "outputs": [],
   "source": [
    "# Plot feedforward output\n",
    "plot_predicted(test_next_h, feedforward_prediction, \"Feedforward Network\")"
   ]
  },
  {
   "cell_type": "markdown",
   "metadata": {},
   "source": [
    "## Preisach Network"
   ]
  },
  {
   "cell_type": "code",
   "execution_count": null,
   "metadata": {},
   "outputs": [],
   "source": [
    "# Generate and train preisach network\n",
    "pnn_model = train_and_generate_preisach_network(train_x, train_y, \"preisach.model\", n_epochs=20)"
   ]
  },
  {
   "cell_type": "code",
   "execution_count": null,
   "metadata": {},
   "outputs": [],
   "source": [
    "# Load preisach model\n",
    "pnn_model = tf.keras.models.load_model(\"./models/preisach.model\")"
   ]
  },
  {
   "cell_type": "code",
   "execution_count": null,
   "metadata": {},
   "outputs": [],
   "source": [
    "#Evaluate preisach model\n",
    "pnn_prediction = pnn_model.predict(test_x)\n",
    "mse = compute_mse(test_y, pnn_prediction)\n",
    "print(\"MSE: \" + str(mse))\n",
    "\n",
    "# tensorflow evaluation\n",
    "pnn_model.evaluate(test_x, test_y)"
   ]
  },
  {
   "cell_type": "code",
   "execution_count": null,
   "metadata": {},
   "outputs": [],
   "source": [
    "# Plot Preisach output\n",
    "plot_predicted(test_next_h, pnn_prediction, \"Preisach Network\")"
   ]
  },
  {
   "cell_type": "markdown",
   "metadata": {},
   "source": [
    "## Recurrent Network\n",
    "no stop activation layer"
   ]
  },
  {
   "cell_type": "code",
   "execution_count": null,
   "metadata": {},
   "outputs": [],
   "source": [
    "# Generate and train recurrent network (no stop operator)\n",
    "rnn_model = train_and_generate_recurrent_network(train_x, train_y, \"recurrent.model\", n_epochs=20)"
   ]
  },
  {
   "cell_type": "code",
   "execution_count": null,
   "metadata": {},
   "outputs": [],
   "source": [
    "# Load recurrent network\n",
    "rnn_model = tf.keras.models.load_model(\"./models/recurrent.model\")"
   ]
  },
  {
   "cell_type": "code",
   "execution_count": null,
   "metadata": {},
   "outputs": [],
   "source": [
    "# Evaluate recurrent model\n",
    "rnn_prediction = rnn_model.predict(test_x)\n",
    "mse = compute_mse(test_y, rnn_prediction)\n",
    "print(\"MSE: \" + str(mse))\n",
    "\n",
    "# tensorflow evaluation\n",
    "rnn_model.evaluate(test_x, test_y)"
   ]
  }
 ],
 "metadata": {
  "kernelspec": {
   "display_name": "Python 3 (ipykernel)",
   "language": "python",
   "name": "python3"
  },
  "language_info": {
   "codemirror_mode": {
    "name": "ipython",
    "version": 3
   },
   "file_extension": ".py",
   "mimetype": "text/x-python",
   "name": "python",
   "nbconvert_exporter": "python",
   "pygments_lexer": "ipython3",
   "version": "3.10.0"
  }
 },
 "nbformat": 4,
 "nbformat_minor": 1
}
