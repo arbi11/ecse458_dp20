{
 "cells": [
  {
   "cell_type": "markdown",
   "metadata": {
    "collapsed": true
   },
   "source": [
    "Notebook for testing nn performance"
   ]
  },
  {
   "cell_type": "code",
   "execution_count": 2,
   "metadata": {},
   "outputs": [],
   "source": [
    "# import dependencies\n",
    "import tensorflow as tf\n",
    "import numpy as np\n",
    "import matplotlib.pyplot as plt\n",
    "\n",
    "from data_preprocessing import extract_csv_info, format_data, shuffle_and_split, split_input_output\n",
    "from neural import train_and_generate_feedforward_network, train_and_generate_recurrent_network, train_and_generate_preisach_network, train_and_generate_recurrent_preisach_network"
   ]
  },
  {
   "cell_type": "code",
   "execution_count": 3,
   "metadata": {},
   "outputs": [],
   "source": [
    "# Function to compute MSE of predicted values\n",
    "def compute_mse(actual_y, predicted_y):\n",
    "    actual_y = np.asarray(actual_y)\n",
    "    predicted_y = np.asarray(predicted_y)\n",
    "    diff = np.subtract(actual_y, predicted_y)\n",
    "    squared = np.square(diff)\n",
    "    mse = np.mean(squared)\n",
    "    return mse\n",
    "\n",
    "\n",
    "# test compute mse\n",
    "# y = [11, 20, 19, 17, 10]\n",
    "# y_pred = [12, 18, 19.5, 18, 9]\n",
    "# print(compute_mse(y, y_pred))"
   ]
  },
  {
   "cell_type": "code",
   "execution_count": 4,
   "metadata": {},
   "outputs": [],
   "source": [
    "# Function for plotting predicted values from NN\n",
    "# TODO: add figsize and xlim as input to function to allow customization\n",
    "def plot_predicted(next_h, next_b, model_name):\n",
    "    plt.figure(figsize=(20, 12))\n",
    "    plt.xlim(-750, 750)\n",
    "    plt.plot(next_h, next_b, marker=\"o\", color='black')\n",
    "    plt.title(model_name + \" Output Plot\")\n",
    "    plt.xlabel(\"Magnetic Field H (T)\")\n",
    "    plt.ylabel(\"Magnetic Flux B (A/m)\")\n",
    "    plt.show()"
   ]
  },
  {
   "cell_type": "markdown",
   "metadata": {},
   "source": [
    "## Data Loading and Preprocessing"
   ]
  },
  {
   "cell_type": "code",
   "execution_count": 5,
   "metadata": {},
   "outputs": [],
   "source": [
    "# Load data for training\n",
    "raw_train_data = extract_csv_info(\"./data_simulated/M19_29Gauge - Sheet1.csv\")\n",
    "# format into (current H, current B, next H, next B)\n",
    "formatted_data = format_data(raw_train_data)\n",
    "#train, test = shuffle_and_split(formatted_data)\n",
    "train_x, train_y = split_input_output(formatted_data)\n",
    "#test_x, test_y = split_input_output(test)\n"
   ]
  },
  {
   "cell_type": "code",
   "execution_count": 6,
   "metadata": {},
   "outputs": [],
   "source": [
    "# Load data for testing\n",
    "raw_test_data = extract_csv_info(\"./data_simulated/M19_TESTINGDATA - M19_TESTINGDATA.csv\")\n",
    "formatted_test_data = format_data(raw_test_data)\n",
    "test_x, test_y = split_input_output(formatted_test_data)\n",
    "\n",
    "# Separate next_h values into separate list for plotting output\n",
    "test_next_h = list()\n",
    "for i in range(len(test_x)):\n",
    "    test_next_h.append(test_x[i][2])\n"
   ]
  },
  {
   "cell_type": "markdown",
   "metadata": {},
   "source": [
    "## Feedforward Network"
   ]
  },
  {
   "cell_type": "code",
   "execution_count": null,
   "metadata": {},
   "outputs": [],
   "source": [
    "# Generate and train feedforward network\n",
    "feedforward_model = train_and_generate_feedforward_network(train_x, train_y, \"feedforward.model\", n_epochs=20)"
   ]
  },
  {
   "cell_type": "code",
   "execution_count": null,
   "metadata": {},
   "outputs": [],
   "source": [
    "# Load feedforward model\n",
    "feedforward_model = tf.keras.models.load_model(\"./models/feedforward.model\")"
   ]
  },
  {
   "cell_type": "code",
   "execution_count": null,
   "metadata": {},
   "outputs": [],
   "source": [
    "# Evaluate feedforward network\n",
    "feedforward_prediction = feedforward_model.predict(test_x)\n",
    "mse = compute_mse(test_y, feedforward_prediction)\n",
    "print(\"MSE: \" + str(mse))\n",
    "\n",
    "# tensorflow evaluation\n",
    "feedforward_model.evaluate(test_x, test_y)"
   ]
  },
  {
   "cell_type": "code",
   "execution_count": null,
   "metadata": {},
   "outputs": [],
   "source": [
    "# Plot feedforward output\n",
    "plot_predicted(test_next_h, feedforward_prediction, \"Feedforward Network\")\n"
   ]
  },
  {
   "cell_type": "markdown",
   "metadata": {},
   "source": [
    "## Preisach Network"
   ]
  },
  {
   "cell_type": "code",
   "execution_count": null,
   "metadata": {},
   "outputs": [],
   "source": [
    "# Generate and train preisach network\n",
    "pnn_model = train_and_generate_preisach_network(train_x, train_y, \"preisach.model\", n_epochs=20)"
   ]
  },
  {
   "cell_type": "code",
   "execution_count": null,
   "metadata": {},
   "outputs": [],
   "source": [
    "# Load preisach model\n",
    "pnn_model = tf.keras.models.load_model(\"./models/preisach.model\")"
   ]
  },
  {
   "cell_type": "code",
   "execution_count": null,
   "metadata": {},
   "outputs": [],
   "source": [
    "#Evaluate preisach model\n",
    "pnn_prediction = pnn_model.predict(test_x)\n",
    "mse = compute_mse(test_y, pnn_prediction)\n",
    "print(\"MSE: \" + str(mse))\n",
    "\n",
    "# tensorflow evaluation\n",
    "pnn_model.evaluate(test_x, test_y)"
   ]
  },
  {
   "cell_type": "code",
   "execution_count": null,
   "metadata": {},
   "outputs": [],
   "source": [
    "# Plot Preisach output\n",
    "plot_predicted(test_next_h, pnn_prediction, \"Preisach Network\")"
   ]
  },
  {
   "cell_type": "markdown",
   "metadata": {},
   "source": [
    "## Recurrent Network\n",
    "no stop activation layer"
   ]
  },
  {
   "cell_type": "code",
   "execution_count": null,
   "metadata": {},
   "outputs": [],
   "source": [
    "# Generate and train recurrent network (no stop operator)\n",
    "rnn_model = train_and_generate_recurrent_network(train_x, train_y, \"recurrent.model\", n_epochs=20)"
   ]
  },
  {
   "cell_type": "code",
   "execution_count": null,
   "metadata": {},
   "outputs": [],
   "source": [
    "# Load recurrent network\n",
    "rnn_model = tf.keras.models.load_model(\"./models/recurrent.model\")"
   ]
  },
  {
   "cell_type": "code",
   "execution_count": null,
   "metadata": {},
   "outputs": [],
   "source": [
    "# Evaluate recurrent model\n",
    "rnn_prediction = rnn_model.predict(test_x)\n",
    "mse = compute_mse(test_y, rnn_prediction)\n",
    "print(\"MSE: \" + str(mse))\n",
    "\n",
    "# tensorflow evaluation\n",
    "rnn_model.evaluate(test_x, test_y)\n",
    "\n"
   ]
  },
  {
   "cell_type": "markdown",
   "metadata": {},
   "source": [
    "## Recurrent Preisach Network\n",
    "includes stop activation layer"
   ]
  },
  {
   "cell_type": "code",
   "execution_count": 7,
   "metadata": {},
   "outputs": [
    {
     "name": "stdout",
     "output_type": "stream",
     "text": [
      "Epoch 1/20\n"
     ]
    },
    {
     "ename": "InaccessibleTensorError",
     "evalue": "in user code:\n\n    File \"C:\\Python310\\lib\\site-packages\\keras\\engine\\training.py\", line 1160, in train_function  *\n        return step_function(self, iterator)\n    File \"C:\\Python310\\lib\\site-packages\\keras\\engine\\training.py\", line 1146, in step_function  **\n        outputs = model.distribute_strategy.run(run_step, args=(data,))\n    File \"C:\\Python310\\lib\\site-packages\\keras\\engine\\training.py\", line 1135, in run_step  **\n        outputs = model.train_step(data)\n    File \"C:\\Python310\\lib\\site-packages\\keras\\engine\\training.py\", line 993, in train_step\n        y_pred = self(x, training=True)\n    File \"C:\\Python310\\lib\\site-packages\\keras\\utils\\traceback_utils.py\", line 70, in error_handler\n        raise e.with_traceback(filtered_tb) from None\n\n    InaccessibleTensorError: Exception encountered when calling layer \"recurrent_preisach_layer\" \"                 f\"(type RecurrentPreisachLayer).\n    \n    in user code:\n    \n        File \"C:\\Users\\Niilo\\Documents\\GitHub\\ecse458_plotter\\custom_activation.py\", line 33, in call  *\n            sum = tf.math.add(tf.math.pow(self.prev_out, -1), input)\n    \n        InaccessibleTensorError: <tf.Tensor 'recurrent_preisach_layer/Minimum:0' shape=(None, 1) dtype=float32> is out of scope and cannot be used here. Use return values, explicit Python locals or TensorFlow collections to access it.\n        Please see https://www.tensorflow.org/guide/function#all_outputs_of_a_tffunction_must_be_return_values for more information.\n        \n        <tf.Tensor 'recurrent_preisach_layer/Minimum:0' shape=(None, 1) dtype=float32> was defined here:\n            File \"C:\\Python310\\lib\\runpy.py\", line 196, in _run_module_as_main\n              return _run_code(code, main_globals, None,\n            File \"C:\\Python310\\lib\\runpy.py\", line 86, in _run_code\n              exec(code, run_globals)\n            File \"C:\\Python310\\lib\\site-packages\\ipykernel_launcher.py\", line 17, in <module>\n              app.launch_new_instance()\n            File \"C:\\Python310\\lib\\site-packages\\traitlets\\config\\application.py\", line 978, in launch_instance\n              app.start()\n            File \"C:\\Python310\\lib\\site-packages\\ipykernel\\kernelapp.py\", line 712, in start\n              self.io_loop.start()\n            File \"C:\\Python310\\lib\\site-packages\\tornado\\platform\\asyncio.py\", line 215, in start\n              self.asyncio_loop.run_forever()\n            File \"C:\\Python310\\lib\\asyncio\\base_events.py\", line 595, in run_forever\n              self._run_once()\n            File \"C:\\Python310\\lib\\asyncio\\base_events.py\", line 1881, in _run_once\n              handle._run()\n            File \"C:\\Python310\\lib\\asyncio\\events.py\", line 80, in _run\n              self._context.run(self._callback, *self._args)\n            File \"C:\\Python310\\lib\\site-packages\\ipykernel\\kernelbase.py\", line 510, in dispatch_queue\n              await self.process_one()\n            File \"C:\\Python310\\lib\\site-packages\\ipykernel\\kernelbase.py\", line 499, in process_one\n              await dispatch(*args)\n            File \"C:\\Python310\\lib\\site-packages\\ipykernel\\kernelbase.py\", line 406, in dispatch_shell\n              await result\n            File \"C:\\Python310\\lib\\site-packages\\ipykernel\\kernelbase.py\", line 730, in execute_request\n              reply_content = await reply_content\n            File \"C:\\Python310\\lib\\site-packages\\ipykernel\\ipkernel.py\", line 383, in do_execute\n              res = shell.run_cell(\n            File \"C:\\Python310\\lib\\site-packages\\ipykernel\\zmqshell.py\", line 528, in run_cell\n              return super().run_cell(*args, **kwargs)\n            File \"C:\\Python310\\lib\\site-packages\\IPython\\core\\interactiveshell.py\", line 2885, in run_cell\n              result = self._run_cell(\n            File \"C:\\Python310\\lib\\site-packages\\IPython\\core\\interactiveshell.py\", line 2940, in _run_cell\n              return runner(coro)\n            File \"C:\\Python310\\lib\\site-packages\\IPython\\core\\async_helpers.py\", line 129, in _pseudo_sync_runner\n              coro.send(None)\n            File \"C:\\Python310\\lib\\site-packages\\IPython\\core\\interactiveshell.py\", line 3139, in run_cell_async\n              has_raised = await self.run_ast_nodes(code_ast.body, cell_name,\n            File \"C:\\Python310\\lib\\site-packages\\IPython\\core\\interactiveshell.py\", line 3318, in run_ast_nodes\n              if await self.run_code(code, result, async_=asy):\n            File \"C:\\Python310\\lib\\site-packages\\IPython\\core\\interactiveshell.py\", line 3378, in run_code\n              exec(code_obj, self.user_global_ns, self.user_ns)\n            File \"C:\\Users\\Niilo\\AppData\\Local\\Temp\\ipykernel_2212\\1513598671.py\", line 2, in <module>\n              rnn_model = train_and_generate_recurrent_preisach_network(train_x, train_y, \"recurrent_preisach.model\", n_epochs=20)\n            File \"C:\\Users\\Niilo\\Documents\\GitHub\\ecse458_plotter\\neural.py\", line 144, in train_and_generate_recurrent_preisach_network\n              model.fit(x_train, y_train, epochs=n_epochs)\n            File \"C:\\Python310\\lib\\site-packages\\keras\\utils\\traceback_utils.py\", line 65, in error_handler\n              return fn(*args, **kwargs)\n            File \"C:\\Python310\\lib\\site-packages\\keras\\engine\\training.py\", line 1564, in fit\n              tmp_logs = self.train_function(iterator)\n            File \"C:\\Python310\\lib\\site-packages\\keras\\engine\\training.py\", line 1160, in train_function\n              return step_function(self, iterator)\n            File \"C:\\Python310\\lib\\site-packages\\keras\\engine\\training.py\", line 1146, in step_function\n              outputs = model.distribute_strategy.run(run_step, args=(data,))\n            File \"C:\\Python310\\lib\\site-packages\\keras\\engine\\training.py\", line 1135, in run_step\n              outputs = model.train_step(data)\n            File \"C:\\Python310\\lib\\site-packages\\keras\\engine\\training.py\", line 993, in train_step\n              y_pred = self(x, training=True)\n            File \"C:\\Python310\\lib\\site-packages\\keras\\utils\\traceback_utils.py\", line 65, in error_handler\n              return fn(*args, **kwargs)\n            File \"C:\\Python310\\lib\\site-packages\\keras\\engine\\training.py\", line 557, in __call__\n              return super().__call__(*args, **kwargs)\n            File \"C:\\Python310\\lib\\site-packages\\keras\\utils\\traceback_utils.py\", line 65, in error_handler\n              return fn(*args, **kwargs)\n            File \"C:\\Python310\\lib\\site-packages\\keras\\engine\\base_layer.py\", line 1097, in __call__\n              outputs = call_fn(inputs, *args, **kwargs)\n            File \"C:\\Python310\\lib\\site-packages\\keras\\utils\\traceback_utils.py\", line 96, in error_handler\n              return fn(*args, **kwargs)\n            File \"C:\\Python310\\lib\\site-packages\\keras\\engine\\sequential.py\", line 403, in call\n              self._build_graph_network_for_inferred_shape(\n            File \"C:\\Python310\\lib\\site-packages\\keras\\engine\\sequential.py\", line 331, in _build_graph_network_for_inferred_shape\n              layer_output = layer(layer_input)\n            File \"C:\\Python310\\lib\\site-packages\\keras\\utils\\traceback_utils.py\", line 65, in error_handler\n              return fn(*args, **kwargs)\n            File \"C:\\Python310\\lib\\site-packages\\keras\\engine\\base_layer.py\", line 1011, in __call__\n              return self._functional_construction_call(\n            File \"C:\\Python310\\lib\\site-packages\\keras\\engine\\base_layer.py\", line 2498, in _functional_construction_call\n              outputs = self._keras_tensor_symbolic_call(\n            File \"C:\\Python310\\lib\\site-packages\\keras\\engine\\base_layer.py\", line 2345, in _keras_tensor_symbolic_call\n              return self._infer_output_signature(\n            File \"C:\\Python310\\lib\\site-packages\\keras\\engine\\base_layer.py\", line 2404, in _infer_output_signature\n              outputs = call_fn(inputs, *args, **kwargs)\n            File \"C:\\Python310\\lib\\site-packages\\keras\\utils\\traceback_utils.py\", line 96, in error_handler\n              return fn(*args, **kwargs)\n            File \"C:\\Users\\Niilo\\Documents\\GitHub\\ecse458_plotter\\custom_activation.py\", line 35, in call\n              e = tf.math.minimum(ones, tf.math.maximum(neg_ones, sum))\n        \n        The tensor <tf.Tensor 'recurrent_preisach_layer/Minimum:0' shape=(None, 1) dtype=float32> cannot be accessed from FuncGraph(name=train_function, id=2926797803712), because it was defined in FuncGraph(name=recurrent_preisach_layer_scratch_graph, id=2926797545696), which is out of scope.\n    \n    \n    Call arguments received by layer \"recurrent_preisach_layer\" \"                 f\"(type RecurrentPreisachLayer):\n      • input=tf.Tensor(shape=(None, 1), dtype=float32)\n      • mask=None\n",
     "output_type": "error",
     "traceback": [
      "\u001B[1;31m---------------------------------------------------------------------------\u001B[0m",
      "\u001B[1;31mInaccessibleTensorError\u001B[0m                   Traceback (most recent call last)",
      "Cell \u001B[1;32mIn [7], line 2\u001B[0m\n\u001B[0;32m      1\u001B[0m \u001B[38;5;66;03m# Generate and train recurrent preisach network\u001B[39;00m\n\u001B[1;32m----> 2\u001B[0m rnn_model \u001B[38;5;241m=\u001B[39m \u001B[43mtrain_and_generate_recurrent_preisach_network\u001B[49m\u001B[43m(\u001B[49m\u001B[43mtrain_x\u001B[49m\u001B[43m,\u001B[49m\u001B[43m \u001B[49m\u001B[43mtrain_y\u001B[49m\u001B[43m,\u001B[49m\u001B[43m \u001B[49m\u001B[38;5;124;43m\"\u001B[39;49m\u001B[38;5;124;43mrecurrent_preisach.model\u001B[39;49m\u001B[38;5;124;43m\"\u001B[39;49m\u001B[43m,\u001B[49m\u001B[43m \u001B[49m\u001B[43mn_epochs\u001B[49m\u001B[38;5;241;43m=\u001B[39;49m\u001B[38;5;241;43m20\u001B[39;49m\u001B[43m)\u001B[49m\n",
      "File \u001B[1;32m~\\Documents\\GitHub\\ecse458_plotter\\neural.py:144\u001B[0m, in \u001B[0;36mtrain_and_generate_recurrent_preisach_network\u001B[1;34m(x_train, y_train, save_name, n_epochs)\u001B[0m\n\u001B[0;32m    136\u001B[0m model\u001B[38;5;241m.\u001B[39mcompile(\n\u001B[0;32m    137\u001B[0m     optimizer\u001B[38;5;241m=\u001B[39m\u001B[38;5;124m'\u001B[39m\u001B[38;5;124mSGD\u001B[39m\u001B[38;5;124m'\u001B[39m,\n\u001B[0;32m    138\u001B[0m     loss\u001B[38;5;241m=\u001B[39m\u001B[38;5;124m'\u001B[39m\u001B[38;5;124mmean_squared_error\u001B[39m\u001B[38;5;124m'\u001B[39m,\n\u001B[1;32m   (...)\u001B[0m\n\u001B[0;32m    141\u001B[0m     ]\n\u001B[0;32m    142\u001B[0m )\n\u001B[0;32m    143\u001B[0m \u001B[38;5;66;03m# Train model\u001B[39;00m\n\u001B[1;32m--> 144\u001B[0m \u001B[43mmodel\u001B[49m\u001B[38;5;241;43m.\u001B[39;49m\u001B[43mfit\u001B[49m\u001B[43m(\u001B[49m\u001B[43mx_train\u001B[49m\u001B[43m,\u001B[49m\u001B[43m \u001B[49m\u001B[43my_train\u001B[49m\u001B[43m,\u001B[49m\u001B[43m \u001B[49m\u001B[43mepochs\u001B[49m\u001B[38;5;241;43m=\u001B[39;49m\u001B[43mn_epochs\u001B[49m\u001B[43m)\u001B[49m\n\u001B[0;32m    145\u001B[0m \u001B[38;5;66;03m# Save model\u001B[39;00m\n\u001B[0;32m    146\u001B[0m save_name \u001B[38;5;241m=\u001B[39m \u001B[38;5;124m\"\u001B[39m\u001B[38;5;124mmodels/\u001B[39m\u001B[38;5;124m\"\u001B[39m \u001B[38;5;241m+\u001B[39m save_name\n",
      "File \u001B[1;32mC:\\Python310\\lib\\site-packages\\keras\\utils\\traceback_utils.py:70\u001B[0m, in \u001B[0;36mfilter_traceback.<locals>.error_handler\u001B[1;34m(*args, **kwargs)\u001B[0m\n\u001B[0;32m     67\u001B[0m     filtered_tb \u001B[38;5;241m=\u001B[39m _process_traceback_frames(e\u001B[38;5;241m.\u001B[39m__traceback__)\n\u001B[0;32m     68\u001B[0m     \u001B[38;5;66;03m# To get the full stack trace, call:\u001B[39;00m\n\u001B[0;32m     69\u001B[0m     \u001B[38;5;66;03m# `tf.debugging.disable_traceback_filtering()`\u001B[39;00m\n\u001B[1;32m---> 70\u001B[0m     \u001B[38;5;28;01mraise\u001B[39;00m e\u001B[38;5;241m.\u001B[39mwith_traceback(filtered_tb) \u001B[38;5;28;01mfrom\u001B[39;00m \u001B[38;5;28mNone\u001B[39m\n\u001B[0;32m     71\u001B[0m \u001B[38;5;28;01mfinally\u001B[39;00m:\n\u001B[0;32m     72\u001B[0m     \u001B[38;5;28;01mdel\u001B[39;00m filtered_tb\n",
      "File \u001B[1;32mC:\\Python310\\lib\\site-packages\\tensorflow\\python\\framework\\func_graph.py:1233\u001B[0m, in \u001B[0;36mfunc_graph_from_py_func.<locals>.autograph_handler\u001B[1;34m(*args, **kwargs)\u001B[0m\n\u001B[0;32m   1231\u001B[0m \u001B[38;5;28;01mexcept\u001B[39;00m \u001B[38;5;167;01mException\u001B[39;00m \u001B[38;5;28;01mas\u001B[39;00m e:  \u001B[38;5;66;03m# pylint:disable=broad-except\u001B[39;00m\n\u001B[0;32m   1232\u001B[0m   \u001B[38;5;28;01mif\u001B[39;00m \u001B[38;5;28mhasattr\u001B[39m(e, \u001B[38;5;124m\"\u001B[39m\u001B[38;5;124mag_error_metadata\u001B[39m\u001B[38;5;124m\"\u001B[39m):\n\u001B[1;32m-> 1233\u001B[0m     \u001B[38;5;28;01mraise\u001B[39;00m e\u001B[38;5;241m.\u001B[39mag_error_metadata\u001B[38;5;241m.\u001B[39mto_exception(e)\n\u001B[0;32m   1234\u001B[0m   \u001B[38;5;28;01melse\u001B[39;00m:\n\u001B[0;32m   1235\u001B[0m     \u001B[38;5;28;01mraise\u001B[39;00m\n",
      "\u001B[1;31mInaccessibleTensorError\u001B[0m: in user code:\n\n    File \"C:\\Python310\\lib\\site-packages\\keras\\engine\\training.py\", line 1160, in train_function  *\n        return step_function(self, iterator)\n    File \"C:\\Python310\\lib\\site-packages\\keras\\engine\\training.py\", line 1146, in step_function  **\n        outputs = model.distribute_strategy.run(run_step, args=(data,))\n    File \"C:\\Python310\\lib\\site-packages\\keras\\engine\\training.py\", line 1135, in run_step  **\n        outputs = model.train_step(data)\n    File \"C:\\Python310\\lib\\site-packages\\keras\\engine\\training.py\", line 993, in train_step\n        y_pred = self(x, training=True)\n    File \"C:\\Python310\\lib\\site-packages\\keras\\utils\\traceback_utils.py\", line 70, in error_handler\n        raise e.with_traceback(filtered_tb) from None\n\n    InaccessibleTensorError: Exception encountered when calling layer \"recurrent_preisach_layer\" \"                 f\"(type RecurrentPreisachLayer).\n    \n    in user code:\n    \n        File \"C:\\Users\\Niilo\\Documents\\GitHub\\ecse458_plotter\\custom_activation.py\", line 33, in call  *\n            sum = tf.math.add(tf.math.pow(self.prev_out, -1), input)\n    \n        InaccessibleTensorError: <tf.Tensor 'recurrent_preisach_layer/Minimum:0' shape=(None, 1) dtype=float32> is out of scope and cannot be used here. Use return values, explicit Python locals or TensorFlow collections to access it.\n        Please see https://www.tensorflow.org/guide/function#all_outputs_of_a_tffunction_must_be_return_values for more information.\n        \n        <tf.Tensor 'recurrent_preisach_layer/Minimum:0' shape=(None, 1) dtype=float32> was defined here:\n            File \"C:\\Python310\\lib\\runpy.py\", line 196, in _run_module_as_main\n              return _run_code(code, main_globals, None,\n            File \"C:\\Python310\\lib\\runpy.py\", line 86, in _run_code\n              exec(code, run_globals)\n            File \"C:\\Python310\\lib\\site-packages\\ipykernel_launcher.py\", line 17, in <module>\n              app.launch_new_instance()\n            File \"C:\\Python310\\lib\\site-packages\\traitlets\\config\\application.py\", line 978, in launch_instance\n              app.start()\n            File \"C:\\Python310\\lib\\site-packages\\ipykernel\\kernelapp.py\", line 712, in start\n              self.io_loop.start()\n            File \"C:\\Python310\\lib\\site-packages\\tornado\\platform\\asyncio.py\", line 215, in start\n              self.asyncio_loop.run_forever()\n            File \"C:\\Python310\\lib\\asyncio\\base_events.py\", line 595, in run_forever\n              self._run_once()\n            File \"C:\\Python310\\lib\\asyncio\\base_events.py\", line 1881, in _run_once\n              handle._run()\n            File \"C:\\Python310\\lib\\asyncio\\events.py\", line 80, in _run\n              self._context.run(self._callback, *self._args)\n            File \"C:\\Python310\\lib\\site-packages\\ipykernel\\kernelbase.py\", line 510, in dispatch_queue\n              await self.process_one()\n            File \"C:\\Python310\\lib\\site-packages\\ipykernel\\kernelbase.py\", line 499, in process_one\n              await dispatch(*args)\n            File \"C:\\Python310\\lib\\site-packages\\ipykernel\\kernelbase.py\", line 406, in dispatch_shell\n              await result\n            File \"C:\\Python310\\lib\\site-packages\\ipykernel\\kernelbase.py\", line 730, in execute_request\n              reply_content = await reply_content\n            File \"C:\\Python310\\lib\\site-packages\\ipykernel\\ipkernel.py\", line 383, in do_execute\n              res = shell.run_cell(\n            File \"C:\\Python310\\lib\\site-packages\\ipykernel\\zmqshell.py\", line 528, in run_cell\n              return super().run_cell(*args, **kwargs)\n            File \"C:\\Python310\\lib\\site-packages\\IPython\\core\\interactiveshell.py\", line 2885, in run_cell\n              result = self._run_cell(\n            File \"C:\\Python310\\lib\\site-packages\\IPython\\core\\interactiveshell.py\", line 2940, in _run_cell\n              return runner(coro)\n            File \"C:\\Python310\\lib\\site-packages\\IPython\\core\\async_helpers.py\", line 129, in _pseudo_sync_runner\n              coro.send(None)\n            File \"C:\\Python310\\lib\\site-packages\\IPython\\core\\interactiveshell.py\", line 3139, in run_cell_async\n              has_raised = await self.run_ast_nodes(code_ast.body, cell_name,\n            File \"C:\\Python310\\lib\\site-packages\\IPython\\core\\interactiveshell.py\", line 3318, in run_ast_nodes\n              if await self.run_code(code, result, async_=asy):\n            File \"C:\\Python310\\lib\\site-packages\\IPython\\core\\interactiveshell.py\", line 3378, in run_code\n              exec(code_obj, self.user_global_ns, self.user_ns)\n            File \"C:\\Users\\Niilo\\AppData\\Local\\Temp\\ipykernel_2212\\1513598671.py\", line 2, in <module>\n              rnn_model = train_and_generate_recurrent_preisach_network(train_x, train_y, \"recurrent_preisach.model\", n_epochs=20)\n            File \"C:\\Users\\Niilo\\Documents\\GitHub\\ecse458_plotter\\neural.py\", line 144, in train_and_generate_recurrent_preisach_network\n              model.fit(x_train, y_train, epochs=n_epochs)\n            File \"C:\\Python310\\lib\\site-packages\\keras\\utils\\traceback_utils.py\", line 65, in error_handler\n              return fn(*args, **kwargs)\n            File \"C:\\Python310\\lib\\site-packages\\keras\\engine\\training.py\", line 1564, in fit\n              tmp_logs = self.train_function(iterator)\n            File \"C:\\Python310\\lib\\site-packages\\keras\\engine\\training.py\", line 1160, in train_function\n              return step_function(self, iterator)\n            File \"C:\\Python310\\lib\\site-packages\\keras\\engine\\training.py\", line 1146, in step_function\n              outputs = model.distribute_strategy.run(run_step, args=(data,))\n            File \"C:\\Python310\\lib\\site-packages\\keras\\engine\\training.py\", line 1135, in run_step\n              outputs = model.train_step(data)\n            File \"C:\\Python310\\lib\\site-packages\\keras\\engine\\training.py\", line 993, in train_step\n              y_pred = self(x, training=True)\n            File \"C:\\Python310\\lib\\site-packages\\keras\\utils\\traceback_utils.py\", line 65, in error_handler\n              return fn(*args, **kwargs)\n            File \"C:\\Python310\\lib\\site-packages\\keras\\engine\\training.py\", line 557, in __call__\n              return super().__call__(*args, **kwargs)\n            File \"C:\\Python310\\lib\\site-packages\\keras\\utils\\traceback_utils.py\", line 65, in error_handler\n              return fn(*args, **kwargs)\n            File \"C:\\Python310\\lib\\site-packages\\keras\\engine\\base_layer.py\", line 1097, in __call__\n              outputs = call_fn(inputs, *args, **kwargs)\n            File \"C:\\Python310\\lib\\site-packages\\keras\\utils\\traceback_utils.py\", line 96, in error_handler\n              return fn(*args, **kwargs)\n            File \"C:\\Python310\\lib\\site-packages\\keras\\engine\\sequential.py\", line 403, in call\n              self._build_graph_network_for_inferred_shape(\n            File \"C:\\Python310\\lib\\site-packages\\keras\\engine\\sequential.py\", line 331, in _build_graph_network_for_inferred_shape\n              layer_output = layer(layer_input)\n            File \"C:\\Python310\\lib\\site-packages\\keras\\utils\\traceback_utils.py\", line 65, in error_handler\n              return fn(*args, **kwargs)\n            File \"C:\\Python310\\lib\\site-packages\\keras\\engine\\base_layer.py\", line 1011, in __call__\n              return self._functional_construction_call(\n            File \"C:\\Python310\\lib\\site-packages\\keras\\engine\\base_layer.py\", line 2498, in _functional_construction_call\n              outputs = self._keras_tensor_symbolic_call(\n            File \"C:\\Python310\\lib\\site-packages\\keras\\engine\\base_layer.py\", line 2345, in _keras_tensor_symbolic_call\n              return self._infer_output_signature(\n            File \"C:\\Python310\\lib\\site-packages\\keras\\engine\\base_layer.py\", line 2404, in _infer_output_signature\n              outputs = call_fn(inputs, *args, **kwargs)\n            File \"C:\\Python310\\lib\\site-packages\\keras\\utils\\traceback_utils.py\", line 96, in error_handler\n              return fn(*args, **kwargs)\n            File \"C:\\Users\\Niilo\\Documents\\GitHub\\ecse458_plotter\\custom_activation.py\", line 35, in call\n              e = tf.math.minimum(ones, tf.math.maximum(neg_ones, sum))\n        \n        The tensor <tf.Tensor 'recurrent_preisach_layer/Minimum:0' shape=(None, 1) dtype=float32> cannot be accessed from FuncGraph(name=train_function, id=2926797803712), because it was defined in FuncGraph(name=recurrent_preisach_layer_scratch_graph, id=2926797545696), which is out of scope.\n    \n    \n    Call arguments received by layer \"recurrent_preisach_layer\" \"                 f\"(type RecurrentPreisachLayer):\n      • input=tf.Tensor(shape=(None, 1), dtype=float32)\n      • mask=None\n"
     ]
    }
   ],
   "source": [
    "# Generate and train recurrent preisach network\n",
    "rnn_model = train_and_generate_recurrent_preisach_network(train_x, train_y, \"recurrent_preisach.model\", n_epochs=20)"
   ]
  },
  {
   "cell_type": "code",
   "execution_count": null,
   "metadata": {},
   "outputs": [],
   "source": []
  }
 ],
 "metadata": {
  "kernelspec": {
   "display_name": "Python 3 (ipykernel)",
   "language": "python",
   "name": "python3"
  },
  "language_info": {
   "codemirror_mode": {
    "name": "ipython",
    "version": 3
   },
   "file_extension": ".py",
   "mimetype": "text/x-python",
   "name": "python",
   "nbconvert_exporter": "python",
   "pygments_lexer": "ipython3",
   "version": "3.10.0"
  }
 },
 "nbformat": 4,
 "nbformat_minor": 1
}
